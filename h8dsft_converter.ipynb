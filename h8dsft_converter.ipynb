{
 "cells": [
  {
   "cell_type": "markdown",
   "metadata": {},
   "source": [
    "# **1.FTDS //NG-2HACKTIV8Hacktiv8 DS**\n",
    "\n",
    "Nama     : Rebran Natanael Lumbanraja, Phase 0, Batch 6\n",
    "\n",
    "Soal  : \n",
    "- Buatlah sebuah function yang dapat mengkonversi suhu dari kelvin ke celcius, dan celcius ke kelvin.\n",
    "- Buatlah sebuah function yang dapat mengkonversi suhu ke fahrenheit. Tambahkan parameter untuk memastikan bahwa argumen yang dimasukan adalah celcius atau kelvin. Panggil function yang pertama jika diperlukan.\n",
    "- Buatlah sebuah function yang dapat mengkonversi suhu dari fahrenheit. Berikan argumen untuk memastikan bahwa outputnya dalah celcius atau kelvin.\n",
    "- Berikan dokumentasi pada setiap baris kode yang kalian tulis."
   ]
  },
  {
   "cell_type": "markdown",
   "metadata": {},
   "source": [
    "# **Function konversi Celsius Kelvin**"
   ]
  },
  {
   "cell_type": "code",
   "execution_count": 1,
   "metadata": {},
   "outputs": [
    {
     "name": "stdout",
     "output_type": "stream",
     "text": [
      "suhu 45.0 C terkonversi menjadi 318.15 Kelvin\n"
     ]
    }
   ],
   "source": [
    "def converter_c_to_k(conv): \n",
    "    conv_converted = round(float(conv - 273.15),2) #input merupakan nilai float\n",
    "    return conv_converted\n",
    "\n",
    "def converter_k_to_c(conv):\n",
    "    conv_converted = round(float(conv + 273.15),2) #input merupakan nilai float\n",
    "    return conv_converted\n",
    "\n",
    "# User memberi input\n",
    "conv = float(input(\"Masukan suhu Ex(45): \"))\n",
    "satuan = input(\"Masukan satuan suhu (C/K): \").capitalize() #akan di konversi antara C dan K\n",
    "\n",
    "if satuan == \"K\":\n",
    "    conv_converted = converter_c_to_k(conv)\n",
    "    satuan_converted = \"Celsius\"\n",
    "elif satuan == \"C\":\n",
    "    conv_converted = converter_k_to_c(conv)\n",
    "    satuan_converted = \"Kelvin\"\n",
    "else:\n",
    "    print(\"Error, Silahkan Masukkan nilai kembali\")\n",
    "\n",
    "\n",
    "print(\"suhu\", conv, satuan, \"terkonversi menjadi\",conv_converted, satuan_converted)"
   ]
  },
  {
   "cell_type": "markdown",
   "metadata": {},
   "source": [
    "# **Function konversi Celsius/Kelvin ke Farenheit**"
   ]
  },
  {
   "cell_type": "code",
   "execution_count": 2,
   "metadata": {},
   "outputs": [
    {
     "name": "stdout",
     "output_type": "stream",
     "text": [
      "suhu 45.0 C terkonversi menjadi 113 Farenheit\n"
     ]
    }
   ],
   "source": [
    "def converterK_to_CK(conv):\n",
    "    if satuan == \"C\":\n",
    "        conv_converted = round(float(9*conv + (32*5))/5)\n",
    "    elif satuan == \"K\":\n",
    "        conv_converted = round(float(9*(converter_c_to_k(conv)) + (32*5))/5) #panggil fungsi di ats biar tidak ribet\n",
    "    else:\n",
    "        print(\"Error, Silahkan Masukkan nilai kembali\")\n",
    "    return conv_converted\n",
    "    \n",
    "# User memberi input\n",
    "conv = float(input(\"Masukan suhu Ex(45): \"))\n",
    "satuan = input(\"Masukan satuan suhu (K/C): \").capitalize() # Akan di konfersi ke Farenheit\n",
    "\n",
    "satuan_converted = \"Farenheit\"\n",
    "conv_converted = converterK_to_CK(conv)\n",
    "\n",
    "print(\"suhu\", conv, satuan, \"terkonversi menjadi\",conv_converted, satuan_converted)"
   ]
  },
  {
   "cell_type": "markdown",
   "metadata": {},
   "source": [
    "# **Function konversi Farenheit ke Celsius/Kelvin**"
   ]
  },
  {
   "cell_type": "code",
   "execution_count": 3,
   "metadata": {},
   "outputs": [
    {
     "name": "stdout",
     "output_type": "stream",
     "text": [
      "suhu 45.0 Farenheit terkonversi menjadi 280.37 K\n"
     ]
    }
   ],
   "source": [
    "def converterF_to_CK(conv):\n",
    "    if satuan_converted == \"C\":\n",
    "        conv_converted = round(float((conv-32)*5/9),2)\n",
    "    elif satuan_converted == \"K\":\n",
    "        conv_converted = round(float(((conv-32)*5/9)+273.15),2)\n",
    "    else:\n",
    "        print(\"Error, Silahkan Masukkan nilai kembali\") \n",
    "    return conv_converted\n",
    "    \n",
    "# User memberi input\n",
    "conv = float(input(\"Masukan suhu Ex(45): \"))\n",
    "satuan_converted = input(\"Masukan satuan suhu Tujuan (C/K): \").capitalize() # Akan di konfersi ke Celsius/Kelvin\n",
    "\n",
    "satuan = \"Farenheit\"\n",
    "conv_converted = converterF_to_CK(conv)\n",
    "\n",
    "print(\"suhu\", conv, satuan, \"terkonversi menjadi\",conv_converted, satuan_converted)"
   ]
  }
 ],
 "metadata": {
  "interpreter": {
   "hash": "b3ba2566441a7c06988d0923437866b63cedc61552a5af99d1f4fb67d367b25f"
  },
  "kernelspec": {
   "display_name": "Python 3.8.8 64-bit ('base': conda)",
   "language": "python",
   "name": "python3"
  },
  "language_info": {
   "codemirror_mode": {
    "name": "ipython",
    "version": 3
   },
   "file_extension": ".py",
   "mimetype": "text/x-python",
   "name": "python",
   "nbconvert_exporter": "python",
   "pygments_lexer": "ipython3",
   "version": "3.8.8"
  },
  "orig_nbformat": 4
 },
 "nbformat": 4,
 "nbformat_minor": 2
}
